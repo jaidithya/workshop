{
  "nbformat": 4,
  "nbformat_minor": 0,
  "metadata": {
    "colab": {
      "name": "day1.ipynb",
      "provenance": [],
      "collapsed_sections": [],
      "authorship_tag": "ABX9TyNm4RjtD1hojhCJTWscZvjG",
      "include_colab_link": true
    },
    "kernelspec": {
      "name": "python3",
      "display_name": "Python 3"
    }
  },
  "cells": [
    {
      "cell_type": "markdown",
      "metadata": {
        "id": "view-in-github",
        "colab_type": "text"
      },
      "source": [
        "<a href=\"https://colab.research.google.com/github/jaidithya/workshop/blob/master/day1.ipynb\" target=\"_parent\"><img src=\"https://colab.research.google.com/assets/colab-badge.svg\" alt=\"Open In Colab\"/></a>"
      ]
    },
    {
      "cell_type": "code",
      "metadata": {
        "id": "bNwXZ9fPJyhv",
        "colab_type": "code",
        "colab": {}
      },
      "source": [
        "1.Find the compound interest for the given p,n,r (formula : p(1+n*r/100)n )"
      ],
      "execution_count": 0,
      "outputs": []
    },
    {
      "cell_type": "markdown",
      "metadata": {
        "id": "exhBb46jJ0bA",
        "colab_type": "text"
      },
      "source": [
        ""
      ]
    },
    {
      "cell_type": "code",
      "metadata": {
        "id": "54TfCaBjJ0wj",
        "colab_type": "code",
        "colab": {
          "base_uri": "https://localhost:8080/",
          "height": 85
        },
        "outputId": "49d3a885-b096-4929-9245-ac72eb8c3344"
      },
      "source": [
        "\n",
        "def compound_interest(principle, rate, time): \n",
        "    CI = principle * (pow((1 + rate / 100), time)) \n",
        "    print(\"Compound interest is\", CI) \n",
        "p=int(input(\"enter p value: \"))\n",
        "n=int(input(\"enter n value: \"))\n",
        "r=float(input(\"enter r value: \"))\n",
        "compound_interest(p, r, n)"
      ],
      "execution_count": 3,
      "outputs": [
        {
          "output_type": "stream",
          "text": [
            "enter p value: 400\n",
            "enter n value: 4\n",
            "enter r value: 2\n",
            "Compound interest is 432.972864\n"
          ],
          "name": "stdout"
        }
      ]
    },
    {
      "cell_type": "markdown",
      "metadata": {
        "id": "pMRpu6KwKB9A",
        "colab_type": "text"
      },
      "source": [
        "2.Convert centegrade to farenheit ( f= 9/5*c+32)"
      ]
    },
    {
      "cell_type": "code",
      "metadata": {
        "id": "8gysOZjXJ5l6",
        "colab_type": "code",
        "colab": {
          "base_uri": "https://localhost:8080/",
          "height": 51
        },
        "outputId": "eb87a636-782a-41e4-da1c-775b7ca8f913"
      },
      "source": [
        "\n",
        "celsius = float(input(\"Enter temperature in celsius: \"))\n",
        "fahrenheit = (celsius * 9/5) + 32\n",
        "print('%.2f Celsius is: %0.2f Fahrenheit' %(celsius, fahrenheit))"
      ],
      "execution_count": 4,
      "outputs": [
        {
          "output_type": "stream",
          "text": [
            "Enter temperature in celsius: 80\n",
            "80.00 Celsius is: 176.00 Fahrenheit\n"
          ],
          "name": "stdout"
        }
      ]
    },
    {
      "cell_type": "markdown",
      "metadata": {
        "id": "QPzzkFY5KUTL",
        "colab_type": "text"
      },
      "source": [
        "\n",
        "3.Find the greater of two nos"
      ]
    },
    {
      "cell_type": "code",
      "metadata": {
        "id": "cYxKIylFKJhO",
        "colab_type": "code",
        "colab": {
          "base_uri": "https://localhost:8080/",
          "height": 85
        },
        "outputId": "ba738aa6-fbe1-4129-add7-7100ee2392cc"
      },
      "source": [
        "a=int(input(\"enter a num : \"))\n",
        "b=int(input(\"enter a num : \"))\n",
        "print(\"greater num is : \")\n",
        "if(a>b):\n",
        "  print(a)\n",
        "else:\n",
        "  print(b)\n"
      ],
      "execution_count": 5,
      "outputs": [
        {
          "output_type": "stream",
          "text": [
            "enter a num : 20\n",
            "enter a num : 5\n",
            "greater num is : \n",
            "20\n"
          ],
          "name": "stdout"
        }
      ]
    },
    {
      "cell_type": "markdown",
      "metadata": {
        "id": "nmALCtavKgzv",
        "colab_type": "text"
      },
      "source": [
        "\n",
        "4.Write a program for finding surface areas of cylinder and cone (2PIrrh, 1/3PIrrh) using function."
      ]
    },
    {
      "cell_type": "code",
      "metadata": {
        "id": "YS3Db2GlKYma",
        "colab_type": "code",
        "colab": {
          "base_uri": "https://localhost:8080/",
          "height": 85
        },
        "outputId": "5fbe4b82-749a-45c4-fe46-1d305ce2d243"
      },
      "source": [
        "import math\n",
        "def Cylinder(r,h):\n",
        "  return 2*math.pi*r*r*h\n",
        "def cone(r,h):\n",
        "  return (1/3)*math.pi*r*r*h\n",
        "r=int(input(\"enter r value : \"))\n",
        "h=int(input(\"enter h value\"))\n",
        "print(\"surface area of cylinder is : %.2f\"%Cylinder(r,h))\n",
        "print(\"surface area of cone is : %.2f \"%cone(r,h))"
      ],
      "execution_count": 6,
      "outputs": [
        {
          "output_type": "stream",
          "text": [
            "enter r value : 34\n",
            "enter h value56\n",
            "surface area of cylinder is : 406748.28\n",
            "surface area of cone is : 67791.38 \n"
          ],
          "name": "stdout"
        }
      ]
    },
    {
      "cell_type": "markdown",
      "metadata": {
        "id": "uFINdR_fKZRr",
        "colab_type": "text"
      },
      "source": [
        "5.Find the greatest of four nos ( using ‘and’ operator) using function"
      ]
    },
    {
      "cell_type": "markdown",
      "metadata": {
        "id": "lS-tHkPpK55C",
        "colab_type": "text"
      },
      "source": [
        ""
      ]
    },
    {
      "cell_type": "code",
      "metadata": {
        "id": "1vcmytQoK2mD",
        "colab_type": "code",
        "colab": {
          "base_uri": "https://localhost:8080/",
          "height": 119
        },
        "outputId": "862ca1fa-0e84-47bc-e973-c7e9b2c5b2f1"
      },
      "source": [
        "a=int(input(\"enter 1st num: \"))\n",
        "b=int(input(\"enter 2nd num: \"))\n",
        "c=int(input(\"enter 3rd num: \"))\n",
        "d=int(input(\"enter 4th num: \"))\n",
        "print(\"greater num is : \")\n",
        "if(a>b and a>c and a>d):\n",
        "  print(a)\n",
        "elif(b>c and b>d):\n",
        "  print(b)\n",
        "elif(c>d):\n",
        "  print(c)\n",
        "else:\n",
        "  print(d)"
      ],
      "execution_count": 9,
      "outputs": [
        {
          "output_type": "stream",
          "text": [
            "enter 1st num: 2\n",
            "enter 2nd num: 3\n",
            "enter 3rd num: 5\n",
            "enter 4th num: 7\n",
            "greater num is : \n",
            "7\n"
          ],
          "name": "stdout"
        }
      ]
    },
    {
      "cell_type": "markdown",
      "metadata": {
        "id": "IDefgOJOLPcc",
        "colab_type": "text"
      },
      "source": [
        "6.Write a menu program to perform the operations ( ODDorEven, Factorial, ODDNoUptoN, PrimeUptoN ) using functions for two nos with menu choice"
      ]
    },
    {
      "cell_type": "code",
      "metadata": {
        "id": "rHUfSDbbLUg2",
        "colab_type": "code",
        "colab": {
          "base_uri": "https://localhost:8080/",
          "height": 1000
        },
        "outputId": "1e06de08-6024-4d36-a4d7-9621175060e7"
      },
      "source": [
        "loop = 1 \n",
        "choice = 0 \n",
        "\n",
        "def oddoreven(a):\n",
        "  if(a%2==0):\n",
        "    print(\"even\")\n",
        "  else:\n",
        "    print(\"odd\") \n",
        "def fact(num):\n",
        "  factorial=1\n",
        "  if num < 0:\n",
        "     print(\"Sorry, factorial does not exist for negative numbers\")\n",
        "  elif num == 0:\n",
        "     print(\"The factorial of 0 is 1\")\n",
        "  else:\n",
        "     for i in range(1,num + 1):\n",
        "         factorial = factorial*i\n",
        "     print(\"The factorial of\",num,\"is\",factorial)\n",
        "def odd(n):\n",
        "   print(\"odd numbers: \");\n",
        "   for i in range(1,n+1):\n",
        "      if(i%2!=0):\n",
        "        print(i)\n",
        "def prime(l,h):\n",
        "  print(\"prime numbers: \")\n",
        "  for num in range(l,h + 1):  \n",
        "   if num > 1:  \n",
        "       for i in range(2,num):  \n",
        "           if (num % i) == 0:  \n",
        "               break  \n",
        "       else:  \n",
        "           print(num)  \n",
        "\n",
        "while loop == 1:\n",
        "  print (\"Welcome\")\n",
        "  print (\"your options are:\")\n",
        "  print (\"\")\n",
        "  print(\"1) odd or even\")\n",
        "  print(\"2) factorial\")\n",
        "  print(\"3) odd upto n\")\n",
        "  print(\"4) prime upto n\")\n",
        "  print(\"5) Quit \")\n",
        "  print(\"\")\n",
        "  try:\n",
        "    choice = int(input(\"Choose your option: \"))\n",
        "  except:\n",
        "     print('please enter a valid number for option')\n",
        "     print(\"\")\n",
        "  print(\"\")\n",
        "  if choice == 1:\n",
        "       x = int(input(\" Enter  no: \"))\n",
        "       oddoreven(x)\n",
        "\n",
        "  elif choice == 2:\n",
        "     x = int(input(\"Enter  no: \"))\n",
        "     fact(x)\n",
        "\n",
        "  elif choice == 3:\n",
        "      x = int(input(\"Enter range: \"))\n",
        "      odd(x)\n",
        "\n",
        "  elif choice == 4:\n",
        "       x = int(input(\"Enter lower range: \"))\n",
        "       y = int(input(\"Enter upper range: \"))\n",
        "       prime(x,y)\n",
        "\n",
        "  elif choice == 5:\n",
        "      loop = 0\n",
        "\n",
        "  else:\n",
        "       print(\"please choice a valid option from 1 to 5\")\n",
        "       choice=0\n",
        "print (\"Thank-you \")"
      ],
      "execution_count": 10,
      "outputs": [
        {
          "output_type": "stream",
          "text": [
            "Welcome\n",
            "your options are:\n",
            "\n",
            "1) odd or even\n",
            "2) factorial\n",
            "3) odd upto n\n",
            "4) prime upto n\n",
            "5) Quit \n",
            "\n",
            "Choose your option: 1\n",
            "\n",
            " Enter  no: 7\n",
            "odd\n",
            "Welcome\n",
            "your options are:\n",
            "\n",
            "1) odd or even\n",
            "2) factorial\n",
            "3) odd upto n\n",
            "4) prime upto n\n",
            "5) Quit \n",
            "\n",
            "Choose your option: 2\n",
            "\n",
            "Enter  no: 5\n",
            "The factorial of 5 is 120\n",
            "Welcome\n",
            "your options are:\n",
            "\n",
            "1) odd or even\n",
            "2) factorial\n",
            "3) odd upto n\n",
            "4) prime upto n\n",
            "5) Quit \n",
            "\n",
            "Choose your option: 3\n",
            "\n",
            "Enter range: 9\n",
            "odd numbers: \n",
            "1\n",
            "3\n",
            "5\n",
            "7\n",
            "9\n",
            "Welcome\n",
            "your options are:\n",
            "\n",
            "1) odd or even\n",
            "2) factorial\n",
            "3) odd upto n\n",
            "4) prime upto n\n",
            "5) Quit \n",
            "\n",
            "Choose your option: 4\n",
            "\n",
            "Enter lower range: 27\n",
            "Enter upper range: 47\n",
            "prime numbers: \n",
            "29\n",
            "31\n",
            "37\n",
            "41\n",
            "43\n",
            "47\n",
            "Welcome\n",
            "your options are:\n",
            "\n",
            "1) odd or even\n",
            "2) factorial\n",
            "3) odd upto n\n",
            "4) prime upto n\n",
            "5) Quit \n",
            "\n",
            "Choose your option: 5\n",
            "\n",
            "Thank-you \n"
          ],
          "name": "stdout"
        }
      ]
    },
    {
      "cell_type": "code",
      "metadata": {
        "id": "iT8WTm2vLVFV",
        "colab_type": "code",
        "colab": {}
      },
      "source": [
        ""
      ],
      "execution_count": 0,
      "outputs": []
    }
  ]
}